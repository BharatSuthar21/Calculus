{
  "nbformat": 4,
  "nbformat_minor": 0,
  "metadata": {
    "colab": {
      "provenance": [],
      "toc_visible": true,
      "authorship_tag": "ABX9TyMSjWE6/kt7Bvf4hYOeGUHQ",
      "include_colab_link": true
    },
    "kernelspec": {
      "name": "python3",
      "display_name": "Python 3"
    },
    "language_info": {
      "name": "python"
    }
  },
  "cells": [
    {
      "cell_type": "markdown",
      "metadata": {
        "id": "view-in-github",
        "colab_type": "text"
      },
      "source": [
        "<a href=\"https://colab.research.google.com/github/BharatSuthar21/Calculus/blob/main/damped_graph.ipynb\" target=\"_parent\"><img src=\"https://colab.research.google.com/assets/colab-badge.svg\" alt=\"Open In Colab\"/></a>"
      ]
    },
    {
      "cell_type": "code",
      "source": [
        "import matplotlib.pyplot as plt\n",
        "from math import *"
      ],
      "metadata": {
        "id": "b-hur1gxDPpN"
      },
      "execution_count": 37,
      "outputs": []
    },
    {
      "cell_type": "code",
      "execution_count": 38,
      "metadata": {
        "id": "DQoQbDRNjMJC",
        "colab": {
          "base_uri": "https://localhost:8080/"
        },
        "outputId": "56a97124-c2de-4b55-c144-69bc31013cbc"
      },
      "outputs": [
        {
          "name": "stdout",
          "output_type": "stream",
          "text": [
            "Enter coffecient of x^2 or x: 1\n",
            "Enter coffecient of x or x': 2\n",
            "Enter coffecient of constant term: 1\n",
            "Enter the value when t=0: 1\n",
            "Enter the value when x' t=0: 1\n"
          ]
        }
      ],
      "source": [
        "# Taking input for critical damped case.\n",
        "a=int(input(\"Enter coffecient of x^2 or x: \"))\n",
        "b=int(input(\"Enter coffecient of x or x': \"))\n",
        "c=int(input(\"Enter coffecient of constant term: \"))\n",
        "x=int(input(\"Enter the value when t=0: \"))\n",
        "v=int(input(\"Enter the value when x' t=0: \"))"
      ]
    },
    {
      "cell_type": "code",
      "source": [
        "# Checking damping type.\n",
        "check=(b**2)-(4*a*c)\n",
        "if check<0:\n",
        "  print(\"Under Damped\")\n",
        "elif check>0:\n",
        "  print(\"Over Damped\")\n",
        "else:\n",
        "  print(\"Critical Damped\")"
      ],
      "metadata": {
        "colab": {
          "base_uri": "https://localhost:8080/"
        },
        "id": "IxYKcaEdnVj_",
        "outputId": "631d609d-6fa0-4ae1-c451-444542629e3d"
      },
      "execution_count": 39,
      "outputs": [
        {
          "output_type": "stream",
          "name": "stdout",
          "text": [
            "Critical Damped\n"
          ]
        }
      ]
    },
    {
      "cell_type": "code",
      "source": [
        "# critical Damped"
      ],
      "metadata": {
        "id": "QKaVekjyBX1W"
      },
      "execution_count": 40,
      "outputs": []
    },
    {
      "cell_type": "code",
      "source": [
        "# finding the roots of given equation.\n",
        "def roots(a,b,c):\n",
        "  return ((-b)+((b**2-4*a*c)**0.5))/2*a,((-b)-((b**2-4*a*c)**0.5))/2*a\n"
      ],
      "metadata": {
        "id": "XMFB0aRcny0R"
      },
      "execution_count": 41,
      "outputs": []
    },
    {
      "cell_type": "code",
      "source": [
        "# creating list of time each time differ by 0.1\n",
        "t=[]\n",
        "for i in range(101):\n",
        "  t.append(i/10)"
      ],
      "metadata": {
        "id": "7MW8jfUtMEI6"
      },
      "execution_count": 42,
      "outputs": []
    },
    {
      "cell_type": "code",
      "source": [
        "\n",
        "def graph(x,v,a,b,c):\n",
        "  m=[]\n",
        "\n",
        "  for i in t:\n",
        "\n",
        "    if check>0:\n",
        "      D1=(v-x*roots(a,b,c)[1])/(roots(a,b,c)[0]-roots(a,b,c)[1])\n",
        "      D2=(v-x*roots(a,b,c)[0])/(roots(a,b,c)[1]-roots(a,b,c)[0])\n",
        "      x1=exp(roots(a,b,c)[0]*i)\n",
        "      x2=exp(roots(a,b,c)[1]*i)\n",
        "      x0=D1*x1+D2*x2\n",
        "      m.append(x0)\n",
        "\n",
        "    elif check==0:\n",
        "      x0=(x+(v-roots(a,b,c)[0]*x)*i)*exp((-b/2*a)*i)\n",
        "      m.append(x0)\n",
        "\n",
        "    else:\n",
        "      alpha=-b/2*a\n",
        "      beta=(abs((b**2/4*a**2)-(c/a)))**0.5\n",
        "      x0=exp(-alpha*i)*(x*cos(beta*i)+(v+alpha*x)*sin(beta*i)/beta)\n",
        "      m.append(x0)\n",
        "\n",
        "  return m\n",
        "  \n",
        "# ploting the  graph\n",
        "fig = plt.plot(t, graph(x,v,a,b,c))"
      ],
      "metadata": {
        "id": "Ff8inaEHpay0",
        "colab": {
          "base_uri": "https://localhost:8080/",
          "height": 265
        },
        "outputId": "69d208e6-4188-4c56-80f7-7dd2809a4065"
      },
      "execution_count": 43,
      "outputs": [
        {
          "output_type": "display_data",
          "data": {
            "text/plain": [
              "<Figure size 432x288 with 1 Axes>"
            ],
            "image/png": "[encoded data removed]"
          },
          "metadata": {
            "needs_background": "light"
          }
        }
      ]
    },
    {
      "cell_type": "code",
      "source": [
        "# Taking input from user for the case of Over Damping.\n",
        "a=int(input(\"Enter coffecient of x^2 or x: \"))\n",
        "b=int(input(\"Enter coffecient of x or x': \"))\n",
        "c=int(input(\"Enter coffecient of constant term: \"))\n",
        "x=int(input(\"Enter the value when t=0: \"))\n",
        "v=int(input(\"Enter the value when x' t=0: \"))"
      ],
      "metadata": {
        "colab": {
          "base_uri": "https://localhost:8080/"
        },
        "id": "p4p5gPcYs6sd",
        "outputId": "d9e596d7-c3f3-4107-8e88-0d2967f446fb"
      },
      "execution_count": 44,
      "outputs": [
        {
          "name": "stdout",
          "output_type": "stream",
          "text": [
            "Enter coffecient of x^2 or x: 1\n",
            "Enter coffecient of x or x': 3\n",
            "Enter coffecient of constant term: 1\n",
            "Enter the value when t=0: 1\n",
            "Enter the value when x' t=0: 1\n"
          ]
        }
      ]
    },
    {
      "cell_type": "code",
      "source": [
        "# Checking damping type.\n",
        "check=(b**2)-(4*a*c)\n",
        "if check<0:\n",
        "  print(\"Under Damped\")\n",
        "elif check>0:\n",
        "  print(\"Over Damped\")\n",
        "else:\n",
        "  print(\"Critical Damped\")"
      ],
      "metadata": {
        "colab": {
          "base_uri": "https://localhost:8080/"
        },
        "id": "ZKaBKjkKFYbW",
        "outputId": "a49f2e67-0d19-40c9-9338-00acbc3f77f6"
      },
      "execution_count": 45,
      "outputs": [
        {
          "output_type": "stream",
          "name": "stdout",
          "text": [
            "Over Damped\n"
          ]
        }
      ]
    },
    {
      "cell_type": "code",
      "source": [
        "# finding the roots of given equation.\n",
        "def roots(a,b,c):\n",
        "  return ((-b)+((b**2-4*a*c)**0.5))/2*a,((-b)-((b**2-4*a*c)**0.5))/2*a\n",
        "\n",
        "# creating list of time each time differ by 0.1\n",
        "t=[]\n",
        "for i in range(101):\n",
        "  t.append(i/10)"
      ],
      "metadata": {
        "id": "IJ0ceBiWFaXV"
      },
      "execution_count": 46,
      "outputs": []
    },
    {
      "cell_type": "code",
      "source": [
        "\n",
        "def graph(x,v,a,b,c):\n",
        "  m=[]\n",
        "\n",
        "  for i in t:\n",
        "\n",
        "    if check>0:\n",
        "      D1=(v-x*roots(a,b,c)[1])/(roots(a,b,c)[0]-roots(a,b,c)[1])\n",
        "      D2=(v-x*roots(a,b,c)[0])/(roots(a,b,c)[1]-roots(a,b,c)[0])\n",
        "      x1=exp(roots(a,b,c)[0]*i)\n",
        "      x2=exp(roots(a,b,c)[1]*i)\n",
        "      x0=D1*x1+D2*x2\n",
        "      m.append(x0)\n",
        "\n",
        "    elif check==0:\n",
        "      x0=(x+(v-roots(a,b,c)[0]*x)*i)*exp((-b/2*a)*i)\n",
        "      m.append(x0)\n",
        "\n",
        "    else:\n",
        "      alpha=-b/2*a\n",
        "      beta=(abs((b**2/4*a**2)-(c/a)))**0.5\n",
        "      x0=exp(-alpha*i)*(x*cos(beta*i)+(v+alpha*x)*sin(beta*i)/beta)\n",
        "      m.append(x0)\n",
        "\n",
        "  return m\n",
        "  \n",
        "# ploting the  graph\n",
        "fig = plt.plot(t, graph(x,v,a,b,c))"
      ],
      "metadata": {
        "colab": {
          "base_uri": "https://localhost:8080/",
          "height": 265
        },
        "id": "QAlKBCt2FkzG",
        "outputId": "cfc0cfd3-437d-4466-a3bf-773c6fe26613"
      },
      "execution_count": 47,
      "outputs": [
        {
          "output_type": "display_data",
          "data": {
            "text/plain": [
              "<Figure size 432x288 with 1 Axes>"
            ],
            "image/png": "[encoded data removed]"
          },
          "metadata": {
            "needs_background": "light"
          }
        }
      ]
    },
    {
      "cell_type": "code",
      "source": [
        "# Taking input from user for the case of under Damping.\n",
        "a=int(input(\"Enter coffecient of x^2 or x: \"))\n",
        "b=int(input(\"Enter coffecient of x or x': \"))\n",
        "c=int(input(\"Enter coffecient of constant term: \"))\n",
        "x=int(input(\"Enter the value when t=0: \"))\n",
        "v=int(input(\"Enter the value when x' t=0: \"))"
      ],
      "metadata": {
        "colab": {
          "base_uri": "https://localhost:8080/"
        },
        "id": "CLDU5EWxFl8o",
        "outputId": "0e19e27a-3956-4bb7-e263-47f2182713a6"
      },
      "execution_count": 48,
      "outputs": [
        {
          "name": "stdout",
          "output_type": "stream",
          "text": [
            "Enter coffecient of x^2 or x: 1\n",
            "Enter coffecient of x or x': 1\n",
            "Enter coffecient of constant term: 90\n",
            "Enter the value when t=0: 1\n",
            "Enter the value when x' t=0: 1\n"
          ]
        }
      ]
    },
    {
      "cell_type": "code",
      "source": [
        "# Checking damping type.\n",
        "check=(b**2)-(4*a*c)\n",
        "if check<0:\n",
        "  print(\"Under Damped\")\n",
        "elif check>0:\n",
        "  print(\"Over Damped\")\n",
        "else:\n",
        "  print(\"Critical Damped\")"
      ],
      "metadata": {
        "colab": {
          "base_uri": "https://localhost:8080/"
        },
        "id": "t-BPRW2OFrGk",
        "outputId": "2d48a345-ccb1-4cd7-d5e8-568e654834b3"
      },
      "execution_count": 49,
      "outputs": [
        {
          "output_type": "stream",
          "name": "stdout",
          "text": [
            "Under Damped\n"
          ]
        }
      ]
    },
    {
      "cell_type": "code",
      "source": [
        "# finding the roots of given equation.\n",
        "def roots(a,b,c):\n",
        "  return ((-b)+((b**2-4*a*c)**0.5))/2*a,((-b)-((b**2-4*a*c)**0.5))/2*a\n",
        "  \n",
        "# creating list of time each time differ by 0.01\n",
        "t=[]\n",
        "for i in range(101):\n",
        "  t.append(i/10)"
      ],
      "metadata": {
        "id": "v7HNn3MuFr2M"
      },
      "execution_count": 50,
      "outputs": []
    },
    {
      "cell_type": "code",
      "source": [
        "\n",
        "def graph(x,v,a,b,c):\n",
        "  m=[]\n",
        "\n",
        "  for i in t:\n",
        "\n",
        "    if check>0:\n",
        "      D1=(v-x*roots(a,b,c)[1])/(roots(a,b,c)[0]-roots(a,b,c)[1])\n",
        "      D2=(v-x*roots(a,b,c)[0])/(roots(a,b,c)[1]-roots(a,b,c)[0])\n",
        "      x1=exp(roots(a,b,c)[0]*i)\n",
        "      x2=exp(roots(a,b,c)[1]*i)\n",
        "      x0=D1*x1+D2*x2\n",
        "      m.append(x0)\n",
        "\n",
        "    elif check==0:\n",
        "      x0=(x+(v-roots(a,b,c)[0]*x)*i)*exp((-b/2*a)*i)\n",
        "      m.append(x0)\n",
        "\n",
        "    else:\n",
        "      alpha=b/2*a\n",
        "      beta=(abs((b**2/4*a**2)-(c/a)))**0.5\n",
        "      x0=exp(-alpha*i)*(x*cos(beta*i)+(v+alpha*x)*sin(beta*i)/beta)\n",
        "      m.append(x0)\n",
        "\n",
        "  return m\n",
        "  \n",
        "# ploting the  graph\n",
        "fig = plt.plot(t, graph(x,v,a,b,c))"
      ],
      "metadata": {
        "colab": {
          "base_uri": "https://localhost:8080/",
          "height": 265
        },
        "id": "Pju5KL13FyDB",
        "outputId": "5f0ecb8f-34d5-479d-8710-ce9da63e5d11"
      },
      "execution_count": 52,
      "outputs": [
        {
          "output_type": "display_data",
          "data": {
            "text/plain": [
              "<Figure size 432x288 with 1 Axes>"
            ],
            "image/png": "[encoded data removed]"
          },
          "metadata": {
            "needs_background": "light"
          }
        }
      ]
    }
  ]
}
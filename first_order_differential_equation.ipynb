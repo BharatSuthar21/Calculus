{
  "nbformat": 4,
  "nbformat_minor": 0,
  "metadata": {
    "colab": {
      "provenance": [],
      "authorship_tag": "ABX9TyOczVd6S6WF//w5q30EFQQO",
      "include_colab_link": true
    },
    "kernelspec": {
      "name": "python3",
      "display_name": "Python 3"
    },
    "language_info": {
      "name": "python"
    }
  },
  "cells": [
    {
      "cell_type": "markdown",
      "metadata": {
        "id": "view-in-github",
        "colab_type": "text"
      },
      "source": [
        "<a href=\"https://colab.research.google.com/github/BharatSuthar21/Calculus/blob/main/first_order_differential_equation.ipynb\" target=\"_parent\"><img src=\"https://colab.research.google.com/assets/colab-badge.svg\" alt=\"Open In Colab\"/></a>"
      ]
    },
    {
      "cell_type": "code",
      "source": [
        "import math\n",
        "import matplotlib.pyplot as plt"
      ],
      "metadata": {
        "id": "kst9x6MO7_CR"
      },
      "execution_count": 43,
      "outputs": []
    },
    {
      "cell_type": "code",
      "source": [
        "t=int(input(\"Enter number of observation that you want: \"))\n",
        "x0=float(input(\"Enter x when t is 0 : \"))\n",
        "delta_t=float(input(\"Enter delta for solving\"))"
      ],
      "metadata": {
        "colab": {
          "base_uri": "https://localhost:8080/"
        },
        "id": "bkXg_oR78xn9",
        "outputId": "040ef5ef-3c8d-4747-9422-06e727a20e69"
      },
      "execution_count": 44,
      "outputs": [
        {
          "name": "stdout",
          "output_type": "stream",
          "text": [
            "Enter number of observation that you want: 100\n",
            "Enter x when t is 0 : 1\n",
            "Enter delta for solving0.01\n"
          ]
        }
      ]
    },
    {
      "cell_type": "code",
      "source": [
        "tlist=[i/100 for i in range(t)]   "
      ],
      "metadata": {
        "id": "o-5QxHe2AcN5"
      },
      "execution_count": 45,
      "outputs": []
    },
    {
      "cell_type": "code",
      "source": [
        "def Exponential(tlist):\n",
        "  xlist1=[]\n",
        "  for i in tlist:\n",
        "    xlist1.append(math.exp(i))\n",
        "  return xlist1"
      ],
      "metadata": {
        "id": "dkWlky29A7QN"
      },
      "execution_count": 46,
      "outputs": []
    },
    {
      "cell_type": "code",
      "source": [
        "def EulerMethod(tlist,delta,x):\n",
        "  xlist2=[]\n",
        "  for _ in range(len(tlist)):\n",
        "    xlist2.append(x)\n",
        "    x=x+delta*x\n",
        "  return xlist2"
      ],
      "metadata": {
        "id": "cEi2ZJOmBaou"
      },
      "execution_count": 47,
      "outputs": []
    },
    {
      "cell_type": "code",
      "source": [
        "plt.plot(tlist,EulerMethod(tlist,delta_t,x0))\n",
        "plt.plot(tlist,Exponential(tlist))"
      ],
      "metadata": {
        "colab": {
          "base_uri": "https://localhost:8080/",
          "height": 283
        },
        "id": "4CtxfAPdCAtj",
        "outputId": "ed8d8648-193d-4011-c448-2cba48ac9858"
      },
      "execution_count": 48,
      "outputs": [
        {
          "output_type": "execute_result",
          "data": {
            "text/plain": [
              "[<matplotlib.lines.Line2D at 0x7fbee483f9a0>]"
            ]
          },
          "metadata": {},
          "execution_count": 48
        },
        {
          "output_type": "display_data",
          "data": {
            "text/plain": [
              "<Figure size 432x288 with 1 Axes>"
            ],
            "image/png": "[encoded data removed]"
          },
          "metadata": {
            "needs_background": "light"
          }
        }
      ]
    },
    {
      "cell_type": "code",
      "source": [
        "def Euler_Error(tlist,delta,x):\n",
        "  xlist1=[]\n",
        "  xlist2=[]\n",
        "  for i in tlist:\n",
        "    x=x*i+x\n",
        "    xlist1.append(x)\n",
        "\n",
        "    xlist2.append(math.exp(i))\n",
        "    # xlist2.append(x)\n",
        "    # x=x*i+x\n",
        "    # xlist1.append(math.exp(i))\n",
        "\n",
        "  error_list1=[]\n",
        "  for i in range(len(tlist)):\n",
        "    error = abs(xlist1[i]-xlist2[i])/xlist1[i]\n",
        "    error_list1.append(error)\n",
        "  return error_list1"
      ],
      "metadata": {
        "id": "7NlLxybGC_dU"
      },
      "execution_count": 49,
      "outputs": []
    },
    {
      "cell_type": "code",
      "source": [
        "plt.plot(tlist, Euler_Error(tlist,delta_t,x0))"
      ],
      "metadata": {
        "colab": {
          "base_uri": "https://localhost:8080/",
          "height": 282
        },
        "id": "0zvyP5_8EW5R",
        "outputId": "d7b36b40-d85f-4a93-9e05-3f2a1eb0e7a3"
      },
      "execution_count": 50,
      "outputs": [
        {
          "output_type": "execute_result",
          "data": {
            "text/plain": [
              "[<matplotlib.lines.Line2D at 0x7fbee41afd60>]"
            ]
          },
          "metadata": {},
          "execution_count": 50
        },
        {
          "output_type": "display_data",
          "data": {
            "text/plain": [
              "<Figure size 432x288 with 1 Axes>"
            ],
            "image/png": "[encoded data removed]"
          },
          "metadata": {
            "needs_background": "light"
          }
        }
      ]
    },
    {
      "cell_type": "code",
      "source": [
        "# now using euler's midpoint method\n",
        "\n",
        "def Euler_mid(t,delta,x):\n",
        "  # n = 100        # x_0 = 1      # interval = 0.01  # for good graph\n",
        "  xlist1 = []\n",
        "  for i in range(t):\n",
        "    xlist1.append(x)\n",
        "    x = x+delta*(x+delta*x/2)             # using the formula of Euler's method to find next term\n",
        "  return xlist1"
      ],
      "metadata": {
        "id": "CZzgRgMaF38z"
      },
      "execution_count": 51,
      "outputs": []
    },
    {
      "cell_type": "code",
      "source": [
        "plt.plot(tlist,Exponential(tlist))\n",
        "plt.plot(tlist,Euler_mid(t,delta_t,x0))"
      ],
      "metadata": {
        "colab": {
          "base_uri": "https://localhost:8080/",
          "height": 283
        },
        "id": "g9xV2QSf48IW",
        "outputId": "694b94f5-3602-4512-957d-dff08b9667ac"
      },
      "execution_count": 52,
      "outputs": [
        {
          "output_type": "execute_result",
          "data": {
            "text/plain": [
              "[<matplotlib.lines.Line2D at 0x7fbee3f2b190>]"
            ]
          },
          "metadata": {},
          "execution_count": 52
        },
        {
          "output_type": "display_data",
          "data": {
            "text/plain": [
              "<Figure size 432x288 with 1 Axes>"
            ],
            "image/png": "[encoded data removed]"
          },
          "metadata": {
            "needs_background": "light"
          }
        }
      ]
    },
    {
      "cell_type": "code",
      "source": [
        "def Euler_mid_error(tlist,x):\n",
        "  # print(tlist)\n",
        "  xlist1=[]\n",
        "  xlist2=[]\n",
        "\n",
        "\n",
        "  for i in tlist:\n",
        "    x=x+i*(x+i*x/2)\n",
        "    xlist1.append(x)\n",
        "\n",
        "\n",
        "    xlist2.append(math.exp(i))\n",
        "  # print(len(xlist1))\n",
        "\n",
        "  error_list1=[]\n",
        "  for i in range(100):\n",
        "      error = (xlist1[i]-xlist2[i])/xlist1[i]\n",
        "      error_list1.append(error)\n",
        "      \n",
        "  return error_list1\n",
        "# print(Euler_mid_error(tlist,x0))"
      ],
      "metadata": {
        "id": "82taEJJJ6r0d"
      },
      "execution_count": 55,
      "outputs": []
    },
    {
      "cell_type": "code",
      "source": [
        "plt.plot(tlist,Euler_mid_error(tlist,x0))"
      ],
      "metadata": {
        "colab": {
          "base_uri": "https://localhost:8080/",
          "height": 282
        },
        "id": "g9C0QIu08-KD",
        "outputId": "0c779995-2650-4e3b-a74e-d70dd907edfd"
      },
      "execution_count": 56,
      "outputs": [
        {
          "output_type": "execute_result",
          "data": {
            "text/plain": [
              "[<matplotlib.lines.Line2D at 0x7fbee41d0ee0>]"
            ]
          },
          "metadata": {},
          "execution_count": 56
        },
        {
          "output_type": "display_data",
          "data": {
            "text/plain": [
              "<Figure size 432x288 with 1 Axes>"
            ],
            "image/png": "[encoded data removed]"
          },
          "metadata": {
            "needs_background": "light"
          }
        }
      ]
    },
    {
      "cell_type": "code",
      "source": [
        "plt.plot(tlist, Euler_Error(tlist,delta_t,x0))\n",
        "plt.plot(tlist,Euler_mid_error(tlist,x0))"
      ],
      "metadata": {
        "colab": {
          "base_uri": "https://localhost:8080/",
          "height": 282
        },
        "id": "jT9WWJMn-idh",
        "outputId": "d20f590a-848c-4920-8c75-38cd4956891e"
      },
      "execution_count": 57,
      "outputs": [
        {
          "output_type": "execute_result",
          "data": {
            "text/plain": [
              "[<matplotlib.lines.Line2D at 0x7fbee3fbaa30>]"
            ]
          },
          "metadata": {},
          "execution_count": 57
        },
        {
          "output_type": "display_data",
          "data": {
            "text/plain": [
              "<Figure size 432x288 with 1 Axes>"
            ],
            "image/png": "[encoded data removed]"
          },
          "metadata": {
            "needs_background": "light"
          }
        }
      ]
    }
  ]
}
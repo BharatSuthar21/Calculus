{
  "nbformat": 4,
  "nbformat_minor": 0,
  "metadata": {
    "colab": {
      "provenance": [],
      "authorship_tag": "ABX9TyMQpQcSr59SVqK/HofPR/KM",
      "include_colab_link": true
    },
    "kernelspec": {
      "name": "python3",
      "display_name": "Python 3"
    },
    "language_info": {
      "name": "python"
    }
  },
  "cells": [
    {
      "cell_type": "markdown",
      "metadata": {
        "id": "view-in-github",
        "colab_type": "text"
      },
      "source": [
        "<a href=\"https://colab.research.google.com/github/BharatSuthar21/Calculus/blob/main/Second_order_differential_equation.ipynb\" target=\"_parent\"><img src=\"https://colab.research.google.com/assets/colab-badge.svg\" alt=\"Open In Colab\"/></a>"
      ]
    },
    {
      "cell_type": "code",
      "execution_count": 39,
      "metadata": {
        "id": "qWAccS9M_YRQ"
      },
      "outputs": [],
      "source": [
        "import math\n",
        "import matplotlib.pyplot as plt"
      ]
    },
    {
      "cell_type": "code",
      "source": [
        "\n",
        "n = int(input('enter number of observation you want: '))   # number of observation you want to graph\n",
        "x0 = float(input('enter x at t=0: '))      # enter initial position at t=0\n",
        "v0 = float(input('enetr v at t=0: '))      # enter initial velocity at t=0\n",
        "interval = float(input('enter interval: ')) # there should be proper coordination between n and interval to get good range of graph"
      ],
      "metadata": {
        "colab": {
          "base_uri": "https://localhost:8080/"
        },
        "id": "REzVVhsj_tes",
        "outputId": "47abeb84-677c-4b42-c11a-6b3b18973167"
      },
      "execution_count": 40,
      "outputs": [
        {
          "name": "stdout",
          "output_type": "stream",
          "text": [
            "enter number of observation you want: 500\n",
            "enter x at t=0: 1\n",
            "enetr v at t=0: 1\n",
            "enter interval: 0.01\n"
          ]
        }
      ]
    },
    {
      "cell_type": "code",
      "source": [
        "def Eulermethod(n, interval ,x, v):\n",
        "  xlist=[]\n",
        "  for i in range(n):\n",
        "    xlist.append(x)\n",
        "    v=x*interval + v\n",
        "    x=v*interval + x\n",
        "  return xlist\n",
        "# print(Eulermethod(n,interval,x0,v0))"
      ],
      "metadata": {
        "id": "Cvx741UnASjd"
      },
      "execution_count": 41,
      "outputs": []
    },
    {
      "cell_type": "code",
      "source": [
        "def Exponential(n,interval):\n",
        "  xlist=[]\n",
        "  for i in range(n):\n",
        "    xlist.append(math.exp(i*interval))\n",
        "  return xlist\n",
        "# print(Exponential(n,interval))"
      ],
      "metadata": {
        "id": "-5Be8BMcBx98"
      },
      "execution_count": 42,
      "outputs": []
    },
    {
      "cell_type": "code",
      "source": [
        "tlist = [i*interval for i in range(n)]\n",
        "plt.plot(tlist,Eulermethod(n,interval,x0,v0))\n",
        "plt.plot(tlist,Exponential(n,interval))"
      ],
      "metadata": {
        "colab": {
          "base_uri": "https://localhost:8080/",
          "height": 282
        },
        "id": "9vQAJ448CKeD",
        "outputId": "01af9f80-3bfa-4d52-fc72-8c4fa907c743"
      },
      "execution_count": 43,
      "outputs": [
        {
          "output_type": "execute_result",
          "data": {
            "text/plain": [
              "[<matplotlib.lines.Line2D at 0x7f21dd4edc10>]"
            ]
          },
          "metadata": {},
          "execution_count": 43
        },
        {
          "output_type": "display_data",
          "data": {
            "text/plain": [
              "<Figure size 432x288 with 1 Axes>"
            ],
            "image/png": "[encoded data removed]"
          },
          "metadata": {
            "needs_background": "light"
          }
        }
      ]
    },
    {
      "cell_type": "code",
      "source": [
        "\n",
        "# this is for error camparison between Euler and exponent graph\n",
        "def Euler_Error(n,interval,x,v):\n",
        "  xlist1=[]\n",
        "  xlist2=[]\n",
        "  for i in range(n):\n",
        "    xlist1.append(x)\n",
        "    v=x*interval + v\n",
        "    x=v*interval + x\n",
        "\n",
        "    xlist2.append(math.exp(i*interval))\n",
        "\n",
        "  error_list=[]\n",
        "  for i in range(n):\n",
        "    error = (xlist1[i]-xlist2[i])/xlist1[i]\n",
        "    error_list.append(error)\n",
        "  return error_list"
      ],
      "metadata": {
        "id": "wNT4TjlRCnVq"
      },
      "execution_count": 44,
      "outputs": []
    },
    {
      "cell_type": "code",
      "source": [
        "\n",
        "delta_t = [i*interval for i in range(n)]\n",
        "plt.plot(delta_t, Euler_Error(n,interval,x0,v0))"
      ],
      "metadata": {
        "colab": {
          "base_uri": "https://localhost:8080/",
          "height": 282
        },
        "id": "gOv40dimDqBW",
        "outputId": "62d6b001-5c79-41db-88dc-a61b2a339853"
      },
      "execution_count": 45,
      "outputs": [
        {
          "output_type": "execute_result",
          "data": {
            "text/plain": [
              "[<matplotlib.lines.Line2D at 0x7f21dd8ae070>]"
            ]
          },
          "metadata": {},
          "execution_count": 45
        },
        {
          "output_type": "display_data",
          "data": {
            "text/plain": [
              "<Figure size 432x288 with 1 Axes>"
            ],
            "image/png": "[encoded data removed]"
          },
          "metadata": {
            "needs_background": "light"
          }
        }
      ]
    },
    {
      "cell_type": "code",
      "source": [
        "def Euler_mid(n,interval,x,v):\n",
        "  xlist1=[]\n",
        "  for _ in range(n):\n",
        "    xlist1.append(x)\n",
        "    v=v+interval*(x+interval*x/2)\n",
        "    x=x+interval*(v+interval*v/2)\n",
        "\n",
        "  return xlist1"
      ],
      "metadata": {
        "id": "Fz71oxndD5kI"
      },
      "execution_count": 46,
      "outputs": []
    },
    {
      "cell_type": "code",
      "source": [
        "list = [i*interval for i in range(n)]\n",
        "plt.plot(tlist,Euler_mid(n,interval,x0,v0))\n",
        "plt.plot(tlist,Exponential(n,interval))"
      ],
      "metadata": {
        "colab": {
          "base_uri": "https://localhost:8080/",
          "height": 282
        },
        "id": "rR2idlPoESHY",
        "outputId": "88c84e6d-01d8-4b9c-b4c9-19b90a2fcbd6"
      },
      "execution_count": 47,
      "outputs": [
        {
          "output_type": "execute_result",
          "data": {
            "text/plain": [
              "[<matplotlib.lines.Line2D at 0x7f21dd507e50>]"
            ]
          },
          "metadata": {},
          "execution_count": 47
        },
        {
          "output_type": "display_data",
          "data": {
            "text/plain": [
              "<Figure size 432x288 with 1 Axes>"
            ],
            "image/png": "[encoded data removed]"
          },
          "metadata": {
            "needs_background": "light"
          }
        }
      ]
    },
    {
      "cell_type": "code",
      "source": [
        "def Euler_mid_error(n,interval,x,v):\n",
        "  delta_t = [i*interval for i in range(n)]\n",
        "  xlist1=[]\n",
        "  xlist2=[]\n",
        "  for i in delta_t:\n",
        "    xlist1.append(x)\n",
        "    v=v + i*(x + i*x/2)\n",
        "    x=x + i*(v+i*v/2)\n",
        "    xlist2.append(math.exp(i))\n",
        "  error_list=[]\n",
        "  for i in range(n):\n",
        "    error = (xlist1[i]-xlist2[i])/xlist1[i]\n",
        "    error_list.append(error)\n",
        "  return error_list\n",
        "\n"
      ],
      "metadata": {
        "id": "0gmcbAGhEW53"
      },
      "execution_count": 48,
      "outputs": []
    },
    {
      "cell_type": "code",
      "source": [
        "\n",
        "\n",
        "tlist = [i*interval for i in range(101)]\n",
        "plt.plot(tlist,Euler_mid_error(101,interval,x0,v0))"
      ],
      "metadata": {
        "colab": {
          "base_uri": "https://localhost:8080/",
          "height": 282
        },
        "id": "MPbe4RvoFlkS",
        "outputId": "1279dfa1-aac6-42b9-c70b-e149eb06db28"
      },
      "execution_count": 49,
      "outputs": [
        {
          "output_type": "execute_result",
          "data": {
            "text/plain": [
              "[<matplotlib.lines.Line2D at 0x7f21dd3aa8b0>]"
            ]
          },
          "metadata": {},
          "execution_count": 49
        },
        {
          "output_type": "display_data",
          "data": {
            "text/plain": [
              "<Figure size 432x288 with 1 Axes>"
            ],
            "image/png": "[encoded data removed]"
          },
          "metadata": {
            "needs_background": "light"
          }
        }
      ]
    },
    {
      "cell_type": "code",
      "source": [
        "\n",
        "tlist = [i*interval for i in range(101)]\n",
        "plt.plot(tlist,Euler_Error(101,interval,x0,v0))\n",
        "plt.plot(tlist,Euler_mid_error(101,interval,x0,v0))"
      ],
      "metadata": {
        "colab": {
          "base_uri": "https://localhost:8080/",
          "height": 282
        },
        "id": "6HIu8U86FqNf",
        "outputId": "c94f8d6d-9def-4ada-bf4e-2a83cf13ef26"
      },
      "execution_count": 50,
      "outputs": [
        {
          "output_type": "execute_result",
          "data": {
            "text/plain": [
              "[<matplotlib.lines.Line2D at 0x7f21dd31c3d0>]"
            ]
          },
          "metadata": {},
          "execution_count": 50
        },
        {
          "output_type": "display_data",
          "data": {
            "text/plain": [
              "<Figure size 432x288 with 1 Axes>"
            ],
            "image/png": "[encoded data removed]"
          },
          "metadata": {
            "needs_background": "light"
          }
        }
      ]
    }
  ]
}
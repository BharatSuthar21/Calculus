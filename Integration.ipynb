{
  "nbformat": 4,
  "nbformat_minor": 0,
  "metadata": {
    "colab": {
      "provenance": [],
      "authorship_tag": "ABX9TyNSl71cp6T8q1bz/Z+CT7d3",
      "include_colab_link": true
    },
    "kernelspec": {
      "name": "python3",
      "display_name": "Python 3"
    },
    "language_info": {
      "name": "python"
    }
  },
  "cells": [
    {
      "cell_type": "markdown",
      "metadata": {
        "id": "view-in-github",
        "colab_type": "text"
      },
      "source": [
        "<a href=\"https://colab.research.google.com/github/BharatSuthar21/Calculus/blob/main/Integration.ipynb\" target=\"_parent\"><img src=\"https://colab.research.google.com/assets/colab-badge.svg\" alt=\"Open In Colab\"/></a>"
      ]
    },
    {
      "cell_type": "code",
      "execution_count": null,
      "metadata": {
        "id": "qxOizmoXGTUJ"
      },
      "outputs": [],
      "source": [
        "from scipy.integrate import quad\n",
        "import random"
      ]
    },
    {
      "cell_type": "code",
      "source": [
        "def f(x):\n",
        "  # Define the function to integrate\n",
        "  return x**2 + 2*x + 1\n",
        "\n",
        "# Integrate the function from 0 to 2\n",
        "result, error = quad(f, 0, 2)\n",
        "\n",
        "\n",
        "print(\"The result of the integration is: \", result)\n",
        "print('The error estimate is: ', error)"
      ],
      "metadata": {
        "colab": {
          "base_uri": "https://localhost:8080/"
        },
        "id": "L2Ad6Be5GcEN",
        "outputId": "2a3f3fa8-f73a-4e6f-c80f-8f2803cc8ceb"
      },
      "execution_count": null,
      "outputs": [
        {
          "output_type": "stream",
          "name": "stdout",
          "text": [
            "The result of the integration is:  8.666666666666668\n",
            "The error estimate is:  9.621932880084691e-14\n"
          ]
        }
      ]
    },
    {
      "cell_type": "markdown",
      "source": [
        "Integrating the x**2+2*x+1 using Rieman Integral"
      ],
      "metadata": {
        "id": "HNWGQZt4H3pN"
      }
    },
    {
      "cell_type": "markdown",
      "source": [
        "\n",
        "#1. Riemann integration:\n",
        "It is a method of approximating the definite integral of a function using a sum of rectangular areas.The Riemann integration method works by dividing the interval into a series of smaller subintervals, and approximating the area under the curve of the function using rectangles with heights equal to the function values at some point in each subinterval. The sum of these rectangular areas gives an approximation of the definite integral.The accuracy of the approximation can be improved by dividing the interval into more subintervals, which results in thinner rectangles and a better approximation of the curve. Formula:\n",
        "$$\\int_{a}^{b} xdx = \\lim_{\\Delta x → 0} \\sum_{i = 1}^{n} f(x_i) Δx$$\n",
        "Where $f(x_i)$ is the value of the function at the $i$-th subinterval, $Δx$ is the width of the subinterval, and the sum is taken over all subintervals from $i=1$ to $n$.\n",
        "\n",
        "Consider the following function:\n",
        "$$f(x) = x ^ 2 + 2x + 1$$"
      ],
      "metadata": {
        "id": "77CsrPnVrXaY"
      }
    },
    {
      "cell_type": "code",
      "source": [
        "upper_limit = int(input('Enter the upper limmit: '))\n",
        "lower_limit = int(input('Enter the lowerr limmit: '))\n",
        "step = float(input(\"enter the step between two xi\"))"
      ],
      "metadata": {
        "colab": {
          "base_uri": "https://localhost:8080/"
        },
        "id": "KZzUuOiSIDAJ",
        "outputId": "dd3b108f-5ec4-406b-b536-3fac98815d1c"
      },
      "execution_count": null,
      "outputs": [
        {
          "name": "stdout",
          "output_type": "stream",
          "text": [
            "Enter the upper limmit: 2\n",
            "Enter the lowerr limmit: 0\n",
            "enter the step between two xi0.01\n"
          ]
        }
      ]
    },
    {
      "cell_type": "code",
      "source": [
        " x = [i*step for i in range(lower_limit, upper_limit*100+1)]\n",
        "\n",
        "ti = [(x[i]+x[i-1])/2 for i in range(1, len(x))]\n",
        "delta_x = (upper_limit - lower_limit)/len(ti)\n",
        "print(x)"
      ],
      "metadata": {
        "id": "8Q1U_jx4L3-N",
        "colab": {
          "base_uri": "https://localhost:8080/"
        },
        "outputId": "0b418072-ead1-4c8f-ba59-2b798c00eb56"
      },
      "execution_count": null,
      "outputs": [
        {
          "output_type": "stream",
          "name": "stdout",
          "text": [
            "[0.0, 0.01, 0.02, 0.03, 0.04, 0.05, 0.06, 0.07, 0.08, 0.09, 0.1, 0.11, 0.12, 0.13, 0.14, 0.15, 0.16, 0.17, 0.18, 0.19, 0.2, 0.21, 0.22, 0.23, 0.24, 0.25, 0.26, 0.27, 0.28, 0.29, 0.3, 0.31, 0.32, 0.33, 0.34, 0.35000000000000003, 0.36, 0.37, 0.38, 0.39, 0.4, 0.41000000000000003, 0.42, 0.43, 0.44, 0.45, 0.46, 0.47000000000000003, 0.48, 0.49, 0.5, 0.51, 0.52, 0.53, 0.54, 0.55, 0.56, 0.5700000000000001, 0.58, 0.59, 0.6, 0.61, 0.62, 0.63, 0.64, 0.65, 0.66, 0.67, 0.68, 0.6900000000000001, 0.7000000000000001, 0.71, 0.72, 0.73, 0.74, 0.75, 0.76, 0.77, 0.78, 0.79, 0.8, 0.81, 0.8200000000000001, 0.8300000000000001, 0.84, 0.85, 0.86, 0.87, 0.88, 0.89, 0.9, 0.91, 0.92, 0.93, 0.9400000000000001, 0.9500000000000001, 0.96, 0.97, 0.98, 0.99, 1.0, 1.01, 1.02, 1.03, 1.04, 1.05, 1.06, 1.07, 1.08, 1.09, 1.1, 1.11, 1.12, 1.1300000000000001, 1.1400000000000001, 1.1500000000000001, 1.16, 1.17, 1.18, 1.19, 1.2, 1.21, 1.22, 1.23, 1.24, 1.25, 1.26, 1.27, 1.28, 1.29, 1.3, 1.31, 1.32, 1.33, 1.34, 1.35, 1.36, 1.37, 1.3800000000000001, 1.3900000000000001, 1.4000000000000001, 1.41, 1.42, 1.43, 1.44, 1.45, 1.46, 1.47, 1.48, 1.49, 1.5, 1.51, 1.52, 1.53, 1.54, 1.55, 1.56, 1.57, 1.58, 1.59, 1.6, 1.61, 1.62, 1.6300000000000001, 1.6400000000000001, 1.6500000000000001, 1.6600000000000001, 1.67, 1.68, 1.69, 1.7, 1.71, 1.72, 1.73, 1.74, 1.75, 1.76, 1.77, 1.78, 1.79, 1.8, 1.81, 1.82, 1.83, 1.84, 1.85, 1.86, 1.87, 1.8800000000000001, 1.8900000000000001, 1.9000000000000001, 1.9100000000000001, 1.92, 1.93, 1.94, 1.95, 1.96, 1.97, 1.98, 1.99, 2.0]\n"
          ]
        }
      ]
    },
    {
      "cell_type": "code",
      "source": [
        "riemansum = 0\n",
        "for i in range(len(ti)):\n",
        "  riemansum += f(ti[i])*delta_x\n",
        "print(riemansum)\n",
        "\n",
        "# rieman = "
      ],
      "metadata": {
        "colab": {
          "base_uri": "https://localhost:8080/"
        },
        "id": "MBvKhKshM2YG",
        "outputId": "976093a3-aef8-4140-a566-fa126e8965dc"
      },
      "execution_count": null,
      "outputs": [
        {
          "output_type": "stream",
          "name": "stdout",
          "text": [
            "8.666649999999999\n"
          ]
        }
      ]
    },
    {
      "cell_type": "markdown",
      "source": [
        "#2. Trapezoidal method of Integration.\n",
        "It is a numerical integration technique that approximates the definite integral of a function by approximating the area under the curve using a trapezoidal shape.The idea behind the trapezoidal method is to divide the area under the curve of the function into trapezoids by drawing a series of vertical lines that divide the interval of integration into a series of subintervals. Each subinterval is approximated as a trapezoid with a base equal to the width of the subinterval and heights equal to the values of the function at the endpoints of the subinterval. The area of each trapezoid is then calculated, and the sum of the areas is taken as the approximation of the integral. Formula for the same is:\n",
        "$$∫_{a}^{b}f(x)dx = \\frac{b-a}{2}(f(b) + f(a))$$"
      ],
      "metadata": {
        "id": "c-jE9i9crbud"
      }
    },
    {
      "cell_type": "code",
      "source": [
        "riemansum_trap = 0\n",
        "for i in range(len(ti)-1):\n",
        "  riemansum_trap += ((f(ti[i+1]) + f(ti[i]))/2)*delta_x\n",
        "print(riemansum_trap)"
      ],
      "metadata": {
        "colab": {
          "base_uri": "https://localhost:8080/"
        },
        "id": "1J0hXCYfSAcS",
        "outputId": "4d5df12e-590d-497b-8ea2-7651b60e8400"
      },
      "execution_count": null,
      "outputs": [
        {
          "output_type": "stream",
          "name": "stdout",
          "text": [
            "8.616749749999999\n"
          ]
        }
      ]
    },
    {
      "cell_type": "markdown",
      "source": [
        "This notebook is dedicated for implementation of various integration methods and plottings of their errors(error vs partition width) as partition width goes small and small. Integration methods are Riemann Integral, Sympson's integration and . These all are numerical methods used to approximate definite integral of a function.\n",
        "#1. Sympson's integration: \n",
        "It is a numerical method used to approximate the definite integral of a function.This method is based on approximating the area under the curve of a function by dividing the area into a series of smaller sections, and approximating the area of each section using a quadratic function.Simpson's integration method is particularly effective when the function being integrated is relatively smooth and has few sharp changes in direction.The formula for Simpson's integration:\n",
        "$$\\int_{a}^{b}x dx = \\frac{b - a}{6}( f(a) + f(b))$$\n",
        "Where $f(x)$ is the function being integrated, $a$ and $b$ are the lower and upper limits of integration."
      ],
      "metadata": {
        "id": "wBgDmL6Vrhcf"
      }
    },
    {
      "cell_type": "code",
      "source": [
        "riemansum_srip = 0\n",
        "for i in range(1,len(ti)-1):\n",
        "  riemansum_srip += (delta_x/3)*(f(ti[i-1]) + f(ti[i]) + f(ti[i+1]))\n",
        "print(riemansum_srip)"
      ],
      "metadata": {
        "colab": {
          "base_uri": "https://localhost:8080/"
        },
        "id": "o-coTChHTBDU",
        "outputId": "a24e2c86-f800-4daa-8130-0292e8b6f10f"
      },
      "execution_count": null,
      "outputs": [
        {
          "output_type": "stream",
          "name": "stdout",
          "text": [
            "8.566981499999999\n"
          ]
        }
      ]
    }
  ]
}
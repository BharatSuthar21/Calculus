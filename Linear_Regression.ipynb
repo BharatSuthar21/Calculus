{
  "nbformat": 4,
  "nbformat_minor": 0,
  "metadata": {
    "colab": {
      "provenance": [],
      "authorship_tag": "ABX9TyMaJcdohZbsyMJ9ILFeFAwX",
      "include_colab_link": true
    },
    "kernelspec": {
      "name": "python3",
      "display_name": "Python 3"
    },
    "language_info": {
      "name": "python"
    }
  },
  "cells": [
    {
      "cell_type": "markdown",
      "metadata": {
        "id": "view-in-github",
        "colab_type": "text"
      },
      "source": [
        "<a href=\"https://colab.research.google.com/github/BharatSuthar21/Calculus/blob/main/Linear_Regression.ipynb\" target=\"_parent\"><img src=\"https://colab.research.google.com/assets/colab-badge.svg\" alt=\"Open In Colab\"/></a>"
      ]
    },
    {
      "cell_type": "markdown",
      "source": [
        "# **About Linear Regression**\n",
        "Linear regression method is used to estimate the slope and intercept of the straight line.\n",
        "Formula of Linear regression: \n",
        "$$y_{i} = m \\cdot x_{i} + c + ϵ_{i}$$\n",
        "\n",
        "To estimate the value of slope and intercept we will find value of $m$ and $c$ so that the following sum of error(SE) is minimized. Expression for SE is as follows:$$SE = \\sum_{i=1}^{n}(y_{i} - m \\cdot x_{i} - c)^2$$ where $m$ is slope and $c$ is intercept.To estimate values of $m$ and $c$ use following equations:\n",
        "$$\\frac{∂SE}{∂m} = 0  \\quad  and \\quad \\frac{∂SE}{∂c} = 0$$\n",
        "Hence calculated values of $m$ and $c$ are:\n",
        "$$m =\\frac{\\overline{xy} - \\overline{x}⋅\\overline{y}}{\\overline{x^2} - (\\overline{x})^2} \\quad \\quad and \\quad \\quad c = \\overline{y} - m \\cdot \\overline{x}$$ Where  $$\\overline{x} = \\frac{1}{n}\\sum_{i=1}^{n}x_{i}  \\quad \\quad and \\quad \\quad \\overline{y} = \\frac{1}{n}\\sum_{i=1}^{n}y_{i} $$"
      ],
      "metadata": {
        "id": "9RcRVOkF-sXb"
      }
    },
    {
      "cell_type": "markdown",
      "source": [
        ":$$!! \\quad LINEAR \\quad REGRESSION \\quad FOR \\quad LINEAR \\quad EQUATION \\quad !!$$\n",
        "$$y_{i} = m \\cdot x_{i} + c + \\epsilon_{i}$$ "
      ],
      "metadata": {
        "id": "uzrNXGtJ-7CI"
      }
    },
    {
      "cell_type": "code",
      "execution_count": 1,
      "metadata": {
        "id": "8QIN2RxNwMmN"
      },
      "outputs": [],
      "source": [
        "# importing the required module\n",
        "import math\n",
        "import random\n",
        "import numpy as np\n",
        "import matplotlib.pyplot as plt"
      ]
    },
    {
      "cell_type": "code",
      "source": [
        "c0 = float(input('Enter value of c: '))\n",
        "m0 = float(input('Enter value of m: '))\n",
        "x = [i for i in range(1,101)]\n"
      ],
      "metadata": {
        "id": "jtWWNQ5fwm0E",
        "colab": {
          "base_uri": "https://localhost:8080/"
        },
        "outputId": "ada5724b-1614-4a18-d412-f0a20d2c7eae"
      },
      "execution_count": 3,
      "outputs": [
        {
          "name": "stdout",
          "output_type": "stream",
          "text": [
            "Enter value of c: 2\n",
            "Enter value of m: 1\n"
          ]
        }
      ]
    },
    {
      "cell_type": "code",
      "source": [
        " \n",
        "# calculating the error that equation can have to find the value of y\n",
        "error = []\n",
        "for _ in range(100):\n",
        "  e = random.random()\n",
        "  error.append((e-0.5)*10)"
      ],
      "metadata": {
        "id": "jcXdwkFsxOwl"
      },
      "execution_count": 4,
      "outputs": []
    },
    {
      "cell_type": "code",
      "source": [
        "# calculating the values of y with different x and constant m, c\n",
        "y = []\n",
        "\n",
        "for i in range(100):\n",
        "  yi = m0*x[i] + c0 + error[i]   # forumal to calculate the y values\n",
        "  y.append(yi)"
      ],
      "metadata": {
        "id": "2yb0ewb_xfYa"
      },
      "execution_count": 5,
      "outputs": []
    },
    {
      "cell_type": "code",
      "source": [
        "# calculating the list containg the values to find the value of m and c\n",
        "xylist = [x[i] * y[i] for i in range(100)]\n",
        "\n",
        "xsqulist = [ x[i]**2 for i in range(100)]\n",
        "\n",
        "xlist = x\n",
        "\n",
        "ylist = y"
      ],
      "metadata": {
        "id": "RWhkpexAx4hL"
      },
      "execution_count": 6,
      "outputs": []
    },
    {
      "cell_type": "code",
      "source": [
        "xy_bar = math.fsum( xylist ) / 100\n",
        "\n",
        "xsqu_bar = math.fsum( xsqulist ) / 100\n",
        "\n",
        "x_bar = math.fsum( xlist ) / 100\n",
        "\n",
        "y_bar = math.fsum( ylist ) / 100"
      ],
      "metadata": {
        "id": "JIO9VZXOyew8"
      },
      "execution_count": 7,
      "outputs": []
    },
    {
      "cell_type": "code",
      "source": [
        "# finding the values of m and c\n",
        "\n",
        "m = (xy_bar - (x_bar * y_bar)) / (xsqu_bar - x_bar**2)\n",
        "\n",
        "c = y_bar - m * x_bar"
      ],
      "metadata": {
        "id": "0LTC8_ux0JVU"
      },
      "execution_count": 8,
      "outputs": []
    },
    {
      "cell_type": "code",
      "source": [
        "listofy = [ m * x[i] + c for i in range(100)]\n",
        "\n",
        "plt.scatter( x, y, label = 'Plot for choosen m and c') \n",
        "plt.plot( x, listofy, label = 'Linear Regression', color = 'red' )\n",
        "plt.legend()\n",
        "plt.show()"
      ],
      "metadata": {
        "colab": {
          "base_uri": "https://localhost:8080/",
          "height": 430
        },
        "id": "HqUm1Jb2yb8i",
        "outputId": "69339dcf-ee9b-4583-c0d4-8a7f2c9b37ed"
      },
      "execution_count": 9,
      "outputs": [
        {
          "output_type": "display_data",
          "data": {
            "text/plain": [
              "<Figure size 640x480 with 1 Axes>"
            ],
            "image/png": "[encoded data removed]"
          },
          "metadata": {}
        }
      ]
    },
    {
      "cell_type": "markdown",
      "source": [
        "listy = [ m * x[i] + c   for i in range(100)]\n",
        "\n",
        "\n",
        "\n",
        "plt.scatter( x, y )\n",
        "plt.plot( x, listy )"
      ],
      "metadata": {
        "id": "Ir_yrq8X0fr-"
      }
    },
    {
      "cell_type": "markdown",
      "source": [
        "$$!! \\quad LINEAR \\quad REGRESSION \\quad FOR \\quad EXPONENTIAL \\quad EQUATION \\quad !!$$\n",
        "$$y_{i} = β\\cdot e^{γx_{i} + ϵ_{i}}$$\n",
        "To solve this by linear regression first of all convert it into linear equation by taking log on both side:$$\\log{y_{i}} =  \\log{β} + γ\\cdot x_{i} + ϵ_{i}$$consider  $ \\quad y_{i}^{new}= \\log{y_{i}}, \\quad c = \\log{β} \\quad and \\quad m = γ$\n",
        "\n",
        "with this new terms apply linear regression method to find $β$ and $γ$."
      ],
      "metadata": {
        "id": "oA9IRDxm_R0G"
      }
    },
    {
      "cell_type": "code",
      "source": [
        "# assuming the values of beta and alpha to solve easily\n",
        "beta = 4\n",
        "alpha = 0.1\n",
        "\n",
        "Error = []\n",
        "for _ in range(100):\n",
        "  e = random.random()\n",
        "  Error.append((e-0.5))\n"
      ],
      "metadata": {
        "id": "WbQd5uyk1H2B"
      },
      "execution_count": 10,
      "outputs": []
    },
    {
      "cell_type": "code",
      "source": [
        "# these values can also be used\n",
        "\n",
        "# beta = 5\n",
        "# alpha = 0.1\n",
        "\n",
        "# Error = []\n",
        "# for _ in range(100):\n",
        "#   e = random.random()\n",
        "#   Error.append((e-0.5)*2)\n",
        "# # Error = sorted(error)"
      ],
      "metadata": {
        "id": "e3xciVVN1Haw"
      },
      "execution_count": 11,
      "outputs": []
    },
    {
      "cell_type": "code",
      "source": [
        "\n",
        "# calculating the values of y\n",
        "y = []\n",
        "\n",
        "for i in range(100):\n",
        "  yi = beta*math.exp( alpha*x[i] + Error[i])\n",
        "  y.append(yi)\n",
        "\n",
        "\n",
        "\n",
        "\n",
        "log_y = []\n",
        "\n",
        "for i in range(100):\n",
        "\n",
        "  yi = math.log(beta) + alpha * x[i] + Error[i]\n",
        "  log_y.append(yi)\n",
        "\n",
        "# print(y)"
      ],
      "metadata": {
        "id": "c2HaxVGg1cxZ"
      },
      "execution_count": 12,
      "outputs": []
    },
    {
      "cell_type": "code",
      "source": [
        "xylist = [ x[i] * log_y[i] for i in range(100)]\n",
        "\n",
        "ylist = log_y\n",
        "\n",
        "\n",
        "xy_bar = math.fsum(xylist) / 100\n",
        "\n",
        "y_bar = math.fsum(ylist) / 100\n"
      ],
      "metadata": {
        "id": "dhIa9cVj2jKC"
      },
      "execution_count": 13,
      "outputs": []
    },
    {
      "cell_type": "code",
      "source": [
        "m = (xy_bar - (x_bar * y_bar)) / (xsqu_bar - x_bar**2)\n",
        "\n",
        "c= y_bar - m * x_bar\n",
        "\n",
        "listofy = [m*x[i] + c for i in range(100)]\n",
        "\n",
        "listof_y= [math.exp(listofy[i]) for i in range(100)]"
      ],
      "metadata": {
        "id": "z5dlgIHe3B04"
      },
      "execution_count": 14,
      "outputs": []
    },
    {
      "cell_type": "code",
      "source": [
        "plt.scatter(x, y, label = 'plot for choosen Beta and Gama')\n",
        "# plt.plot(x,y)\n",
        "# plt.scatter(x,log_y , color = 'green')\n",
        "plt.plot(x,listof_y, color='red', label = 'Linear Regression')"
      ],
      "metadata": {
        "colab": {
          "base_uri": "https://localhost:8080/",
          "height": 447
        },
        "id": "3yu0WEGY4Ham",
        "outputId": "4c3536b6-2cde-4637-ecaf-6100e1c58ced"
      },
      "execution_count": 15,
      "outputs": [
        {
          "output_type": "execute_result",
          "data": {
            "text/plain": [
              "[<matplotlib.lines.Line2D at 0x7f4aa0d3ee20>]"
            ]
          },
          "metadata": {},
          "execution_count": 15
        },
        {
          "output_type": "display_data",
          "data": {
            "text/plain": [
              "<Figure size 640x480 with 1 Axes>"
            ],
            "image/png": "[encoded data removed]"
          },
          "metadata": {}
        }
      ]
    },
    {
      "cell_type": "markdown",
      "source": [
        "$$!!\\quad LINEAR \\quad REGRESSION \\quad FOR \\quad POLYNOMIAL \\quad FUNCTION\\quad !!$$\n",
        "$$y_{i} = m_{0} + m_{1}x_{i} + m_{2}x_{i}^{2} + m_{3}x_{i}^{3} + m_{4}x_{i}^{4} + .....$$\n",
        "To solve this by linear regression first of all convert into linear equation of multi variable as follows:\n",
        "$$y_{i} = m_{0} + m_{1}x_{1i} + m_{2}x_{2i} + m_{3}x_{3i} .......$$where  $ \\quad x_{1i} = x_{i}, \\quad x_{2i} = x_{i}^{2}, x_{3i} = x_{i}^{3} $ and so on.....\n",
        "\n",
        "Now solve linear equation by using linear regression."
      ],
      "metadata": {
        "id": "jl5uQJtD_jLJ"
      }
    },
    {
      "cell_type": "code",
      "source": [
        "degree =int(input(\"Enter the degree of polynomial equation: \"))\n",
        "list_of_m = []\n",
        "for i in range(degree+1):\n",
        "  # m = 'm'+str(i)\n",
        "  m =int(input(\"Enter coffecient of equation: \"))\n",
        "  list_of_m.append(m)\n",
        "\n",
        "x= [i for i in range(1,101)]\n",
        "Error = []\n",
        "for _ in range(100):\n",
        "  e = random.random()\n",
        "  Error.append((e-0.5)*2)"
      ],
      "metadata": {
        "id": "0SaGePqs_EcG",
        "colab": {
          "base_uri": "https://localhost:8080/"
        },
        "outputId": "d8990723-b211-482a-c802-29b11d7296dc"
      },
      "execution_count": 24,
      "outputs": [
        {
          "name": "stdout",
          "output_type": "stream",
          "text": [
            "Enter the degree of polynomial equation: 3\n",
            "Enter coffecient of equation: 1\n",
            "Enter coffecient of equation: 2\n",
            "Enter coffecient of equation: 1\n",
            "Enter coffecient of equation: 3\n"
          ]
        }
      ]
    },
    {
      "cell_type": "code",
      "source": [
        "list_of_y= []\n",
        "for i in range(100):\n",
        "  y = list_of_m[0]\n",
        "  for j in range(degree):\n",
        "    y += list_of_m[(j+1)] * (x[i]**(j+1))\n",
        "  list_of_y.append(y+Error[i])\n",
        "\n",
        "# print(list_of_y)"
      ],
      "metadata": {
        "id": "QVvqL-iM7yXz"
      },
      "execution_count": 25,
      "outputs": []
    },
    {
      "cell_type": "code",
      "source": [
        "matrix = []\n",
        "finallist =[]\n",
        "c_vector =[]\n",
        "for i in range(degree*2+1):\n",
        "  sum1 = 0\n",
        "  sum2 = 0\n",
        "  for j in range(100):\n",
        "    sum1 += list_of_y[j]*(x[j]**i)\n",
        "    sum2 += x[j]**i\n",
        "\n",
        "  matrix.append(sum2)\n",
        "  if i <= degree:\n",
        "    c_vector.append([sum1])\n",
        "\n",
        "\n",
        "\n",
        "for k in range(degree+1):\n",
        "  if k > degree:\n",
        "    break\n",
        "  finallist.append(matrix[k: degree+1+k])\n",
        "# print(matrix)\n",
        "\n",
        "\n"
      ],
      "metadata": {
        "id": "NZNF9WRW-nUc"
      },
      "execution_count": 26,
      "outputs": []
    },
    {
      "cell_type": "code",
      "source": [
        "# Finally checking closeness between choosen values of m's and calculated values of m.\n",
        "inverse = np.linalg.inv(finallist)              # calculating inverse of matrix.\n",
        "product = np.dot(inverse, c_vector)      # This is the column vector containing values of calculated m.\n",
        "for i in range(degree + 1):\n",
        "    print(f'Choosen values of m_{i}: ', list_of_m[i])\n",
        "    print(f'Calculated values of m_{i}: ', product[i][0])\n",
        "    print()"
      ],
      "metadata": {
        "colab": {
          "base_uri": "https://localhost:8080/"
        },
        "id": "HUcQz6sqBop2",
        "outputId": "99bc7257-8c1f-411b-82de-b300d219fdbd"
      },
      "execution_count": 27,
      "outputs": [
        {
          "output_type": "stream",
          "name": "stdout",
          "text": [
            "Choosen values of m_0:  1\n",
            "Calculated values of m_0:  0.8817847371101379\n",
            "\n",
            "Choosen values of m_1:  2\n",
            "Calculated values of m_1:  2.0045643877238035\n",
            "\n",
            "Choosen values of m_2:  1\n",
            "Calculated values of m_2:  1.0000504393246956\n",
            "\n",
            "Choosen values of m_3:  3\n",
            "Calculated values of m_3:  2.9999990350925145\n",
            "\n"
          ]
        }
      ]
    }
  ]
}
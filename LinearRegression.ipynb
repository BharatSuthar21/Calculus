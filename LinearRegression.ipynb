{
  "nbformat": 4,
  "nbformat_minor": 0,
  "metadata": {
    "colab": {
      "provenance": [],
      "authorship_tag": "ABX9TyNw3qKqkevSDMm5OBrYhSBz",
      "include_colab_link": true
    },
    "kernelspec": {
      "name": "python3",
      "display_name": "Python 3"
    },
    "language_info": {
      "name": "python"
    }
  },
  "cells": [
    {
      "cell_type": "markdown",
      "metadata": {
        "id": "view-in-github",
        "colab_type": "text"
      },
      "source": [
        "<a href=\"https://colab.research.google.com/github/BharatSuthar21/Calculus/blob/main/LinearRegression.ipynb\" target=\"_parent\"><img src=\"https://colab.research.google.com/assets/colab-badge.svg\" alt=\"Open In Colab\"/></a>"
      ]
    },
    {
      "cell_type": "code",
      "execution_count": 3,
      "metadata": {
        "id": "8QIN2RxNwMmN"
      },
      "outputs": [],
      "source": [
        "import math\n",
        "import random\n",
        "import numpy as np\n",
        "import matplotlib.pyplot as plt"
      ]
    },
    {
      "cell_type": "code",
      "source": [
        "c0 = 1\n",
        "m0 = 1\n",
        "x = [i for i in range(1,101)]\n"
      ],
      "metadata": {
        "id": "jtWWNQ5fwm0E"
      },
      "execution_count": 4,
      "outputs": []
    },
    {
      "cell_type": "code",
      "source": [
        "# error \n",
        "\n",
        "error = []\n",
        "for _ in range(100):\n",
        "  e = random.random()\n",
        "  error.append((e-0.5)*10)"
      ],
      "metadata": {
        "id": "jcXdwkFsxOwl"
      },
      "execution_count": 5,
      "outputs": []
    },
    {
      "cell_type": "code",
      "source": [
        "y = []\n",
        "\n",
        "for i in range(100):\n",
        "\n",
        "  yi = m0*x[i] + c0 + error[i]\n",
        "\n",
        "  y.append(yi)"
      ],
      "metadata": {
        "id": "2yb0ewb_xfYa"
      },
      "execution_count": 6,
      "outputs": []
    },
    {
      "cell_type": "code",
      "source": [
        "xylist = [x[i] * y[i] for i in range(100)]\n",
        "\n",
        "xsqulist = [ x[i]**2 for i in range(100)]\n",
        "\n",
        "xlist = x\n",
        "\n",
        "ylist = y"
      ],
      "metadata": {
        "id": "RWhkpexAx4hL"
      },
      "execution_count": 7,
      "outputs": []
    },
    {
      "cell_type": "code",
      "source": [
        "xy_bar = math.fsum( xylist ) / 100\n",
        "\n",
        "xsqu_bar = math.fsum( xsqulist ) / 100\n",
        "\n",
        "x_bar = math.fsum( xlist ) / 100\n",
        "\n",
        "y_bar = math.fsum( ylist ) / 100"
      ],
      "metadata": {
        "id": "JIO9VZXOyew8"
      },
      "execution_count": 8,
      "outputs": []
    },
    {
      "cell_type": "code",
      "source": [
        "m = (xy_bar - (x_bar * y_bar)) / (xsqu_bar - x_bar**2)\n",
        "\n",
        "\n",
        "c = y_bar - m * x_bar"
      ],
      "metadata": {
        "id": "0LTC8_ux0JVU"
      },
      "execution_count": 9,
      "outputs": []
    },
    {
      "cell_type": "code",
      "source": [
        "listofy = [ m * x[i] + c for i in range(100)]\n",
        "\n",
        "plt.scatter( x, y ) \n",
        "plt.plot( x, listofy, color = 'red' )\n",
        "# plt.legend()\n",
        "# plt.show()"
      ],
      "metadata": {
        "colab": {
          "base_uri": "https://localhost:8080/",
          "height": 447
        },
        "id": "HqUm1Jb2yb8i",
        "outputId": "9fb80c3a-b4b6-4ad2-aab9-36486334f0fe"
      },
      "execution_count": 10,
      "outputs": [
        {
          "output_type": "execute_result",
          "data": {
            "text/plain": [
              "[<matplotlib.lines.Line2D at 0x7f0984057820>]"
            ]
          },
          "metadata": {},
          "execution_count": 10
        },
        {
          "output_type": "display_data",
          "data": {
            "text/plain": [
              "<Figure size 640x480 with 1 Axes>"
            ],
            "image/png": "[encoded data removed]"
          },
          "metadata": {}
        }
      ]
    },
    {
      "cell_type": "markdown",
      "source": [
        "listy = [ m * x[i] + c   for i in range(100)]\n",
        "\n",
        "\n",
        "\n",
        "plt.scatter( x, y )\n",
        "plt.plot( x, listy )"
      ],
      "metadata": {
        "id": "Ir_yrq8X0fr-"
      }
    },
    {
      "cell_type": "code",
      "source": [
        "beta = 4\n",
        "alpha = 0.1\n",
        "\n",
        "Error = []\n",
        "for _ in range(100):\n",
        "  e = random.random()\n",
        "  Error.append((e-0.5))\n",
        "# Error = sorted(error)"
      ],
      "metadata": {
        "id": "WbQd5uyk1H2B"
      },
      "execution_count": 11,
      "outputs": []
    },
    {
      "cell_type": "code",
      "source": [
        "# beta = 5\n",
        "# alpha = 0.1\n",
        "\n",
        "# Error = []\n",
        "# for _ in range(100):\n",
        "#   e = random.random()\n",
        "#   Error.append((e-0.5)*2)\n",
        "# # Error = sorted(error)\n",
        "\n",
        "\n",
        "\n",
        "# beta = 5\n",
        "# alpha = 0.1\n",
        "# \n",
        "# Error = []\n",
        "# for _ in range(100):\n",
        "  # e = random.random()\n",
        "  # Error.append((e-0.5)*2)\n",
        "# Error = sorted(error)"
      ],
      "metadata": {
        "id": "e3xciVVN1Haw"
      },
      "execution_count": null,
      "outputs": []
    },
    {
      "cell_type": "code",
      "source": [
        "y = []\n",
        "\n",
        "for i in range(100):\n",
        "  yi = beta*math.exp( alpha*x[i] + Error[i])\n",
        "  y.append(yi)\n",
        "\n",
        "log_y = []\n",
        "\n",
        "for i in range(100):\n",
        "\n",
        "  yi = math.log(beta) + alpha * x[i] + Error[i]\n",
        "  log_y.append(yi)\n",
        "\n",
        "# print(y)"
      ],
      "metadata": {
        "id": "c2HaxVGg1cxZ"
      },
      "execution_count": 12,
      "outputs": []
    },
    {
      "cell_type": "code",
      "source": [
        "xylist = [ x[i] * log_y[i] for i in range(100)]\n",
        "\n",
        "ylist = log_y\n",
        "\n",
        "\n",
        "\n",
        "\n",
        "xy_bar = math.fsum(xylist) / 100\n",
        "\n",
        "y_bar = math.fsum(ylist) / 100\n"
      ],
      "metadata": {
        "id": "dhIa9cVj2jKC"
      },
      "execution_count": 13,
      "outputs": []
    },
    {
      "cell_type": "code",
      "source": [
        "m = (xy_bar - (x_bar * y_bar)) / (xsqu_bar - x_bar**2)\n",
        "\n",
        "\n",
        "c= y_bar - m * x_bar\n",
        "\n",
        "listofy = [m*x[i] + c for i in range(100)]\n",
        "\n",
        "listof_y= [math.exp(listofy[i]) for i in range(100)]"
      ],
      "metadata": {
        "id": "z5dlgIHe3B04"
      },
      "execution_count": 14,
      "outputs": []
    },
    {
      "cell_type": "code",
      "source": [
        "plt.scatter(x,y)\n",
        "# plt.plot(x,y)\n",
        "# plt.scatter(x,log_y , color = 'green')\n",
        "plt.plot(x,listof_y, color='red')"
      ],
      "metadata": {
        "colab": {
          "base_uri": "https://localhost:8080/",
          "height": 447
        },
        "id": "3yu0WEGY4Ham",
        "outputId": "84196991-e481-4a40-d0e8-f9d5114f0348"
      },
      "execution_count": 15,
      "outputs": [
        {
          "output_type": "execute_result",
          "data": {
            "text/plain": [
              "[<matplotlib.lines.Line2D at 0x7f097cd5fb80>]"
            ]
          },
          "metadata": {},
          "execution_count": 15
        },
        {
          "output_type": "display_data",
          "data": {
            "text/plain": [
              "<Figure size 640x480 with 1 Axes>"
            ],
            "image/png": "[encoded data removed]"
          },
          "metadata": {}
        }
      ]
    },
    {
      "cell_type": "code",
      "source": [],
      "metadata": {
        "id": "VrmqFCxW_Eyo"
      },
      "execution_count": null,
      "outputs": []
    },
    {
      "cell_type": "code",
      "source": [
        "degree =int(input(\"Enter the degree of polynomial equation: \"))\n",
        "list_of_m = []\n",
        "for i in range(degree+1):\n",
        "  # m = 'm'+str(i)\n",
        "  m =int(input(\"Enter coffecient of equation: \"))\n",
        "  list_of_m.append(m)\n",
        "\n",
        "x= [i for i in range(1,101)]\n",
        "Error = []\n",
        "for _ in range(100):\n",
        "  e = random.random()\n",
        "  Error.append((e-0.5)*2)"
      ],
      "metadata": {
        "id": "0SaGePqs_EcG",
        "colab": {
          "base_uri": "https://localhost:8080/"
        },
        "outputId": "0c3eb3da-04a8-41d8-d3d4-a8c303e72cdc"
      },
      "execution_count": 16,
      "outputs": [
        {
          "name": "stdout",
          "output_type": "stream",
          "text": [
            "Enter the degree of polynomial equation: 3\n",
            "Enter coffecient of equation: 1\n",
            "Enter coffecient of equation: 2\n",
            "Enter coffecient of equation: 3\n",
            "Enter coffecient of equation: 1\n"
          ]
        }
      ]
    },
    {
      "cell_type": "code",
      "source": [
        "list_of_y= []\n",
        "for i in range(100):\n",
        "  y = list_of_m[0]\n",
        "  for j in range(degree):\n",
        "    y += list_of_m[(j+1)] * (x[i]**(j+1))\n",
        "  list_of_y.append(y+Error[i])\n",
        "\n",
        "# print(list_of_y)"
      ],
      "metadata": {
        "id": "QVvqL-iM7yXz"
      },
      "execution_count": 18,
      "outputs": []
    },
    {
      "cell_type": "code",
      "source": [
        "matrix = []\n",
        "finallist =[]\n",
        "c_vector =[]\n",
        "for i in range(degree*2+1):\n",
        "  sum1 = 0\n",
        "  sum2 = 0\n",
        "  for j in range(100):\n",
        "    sum1 += list_of_y[j]*(x[j]**i)\n",
        "    sum2 += x[j]**i\n",
        "\n",
        "  matrix.append(sum2)\n",
        "  if i <= degree:\n",
        "    c_vector.append([sum1])\n",
        "\n",
        "\n",
        "\n",
        "for k in range(degree+1):\n",
        "  if k > degree:\n",
        "    break\n",
        "  finallist.append(matrix[k: degree+1+k])\n",
        "\n"
      ],
      "metadata": {
        "id": "NZNF9WRW-nUc"
      },
      "execution_count": 19,
      "outputs": []
    },
    {
      "cell_type": "code",
      "source": [
        "# Finally checking closeness between choosen values of m's and calculated values of m.\n",
        "inverse = np.linalg.inv(finallist)              # calculating inverse of matrix.\n",
        "product = np.dot(inverse, c_vector)      # This is the column vector containing values of calculated m.\n",
        "for i in range(degree + 1):\n",
        "    print(f'Choosen values of m_{i}: ', list_of_m[i])\n",
        "    print(f'Calculated values of m_{i}: ', product[i][0])\n",
        "    print()"
      ],
      "metadata": {
        "colab": {
          "base_uri": "https://localhost:8080/"
        },
        "id": "HUcQz6sqBop2",
        "outputId": "936044bf-05e1-45eb-e364-ceb260746194"
      },
      "execution_count": 20,
      "outputs": [
        {
          "output_type": "stream",
          "name": "stdout",
          "text": [
            "Choosen values of m_0:  1\n",
            "Calculated values of m_0:  0.9578937888145447\n",
            "\n",
            "Choosen values of m_1:  2\n",
            "Calculated values of m_1:  2.0174763463437557\n",
            "\n",
            "Choosen values of m_2:  3\n",
            "Calculated values of m_2:  2.9994936014700215\n",
            "\n",
            "Choosen values of m_3:  1\n",
            "Calculated values of m_3:  1.0000034188426525\n",
            "\n"
          ]
        }
      ]
    }
  ]
}
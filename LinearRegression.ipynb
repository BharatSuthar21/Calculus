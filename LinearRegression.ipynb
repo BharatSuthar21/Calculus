{
  "nbformat": 4,
  "nbformat_minor": 0,
  "metadata": {
    "colab": {
      "provenance": [],
      "authorship_tag": "ABX9TyP0NNGqVcej7h97EBltoc07",
      "include_colab_link": true
    },
    "kernelspec": {
      "name": "python3",
      "display_name": "Python 3"
    },
    "language_info": {
      "name": "python"
    }
  },
  "cells": [
    {
      "cell_type": "markdown",
      "metadata": {
        "id": "view-in-github",
        "colab_type": "text"
      },
      "source": [
        "<a href=\"https://colab.research.google.com/github/BharatSuthar21/Calculus/blob/main/LinearRegression.ipynb\" target=\"_parent\"><img src=\"https://colab.research.google.com/assets/colab-badge.svg\" alt=\"Open In Colab\"/></a>"
      ]
    },
    {
      "cell_type": "code",
      "execution_count": null,
      "metadata": {
        "id": "8QIN2RxNwMmN"
      },
      "outputs": [],
      "source": [
        "import math\n",
        "import random\n",
        "import numpy as np\n",
        "import matplotlib.pyplot as plt"
      ]
    },
    {
      "cell_type": "code",
      "source": [
        "c0 = 1\n",
        "m0 = 1\n",
        "x = [i for i in range(1,101)]\n"
      ],
      "metadata": {
        "id": "jtWWNQ5fwm0E"
      },
      "execution_count": null,
      "outputs": []
    },
    {
      "cell_type": "code",
      "source": [
        "# error \n",
        "\n",
        "error = []\n",
        "for _ in range(100):\n",
        "  e = random.random()\n",
        "  error.append((e-0.5)*10)"
      ],
      "metadata": {
        "id": "jcXdwkFsxOwl"
      },
      "execution_count": null,
      "outputs": []
    },
    {
      "cell_type": "code",
      "source": [
        "y = []\n",
        "\n",
        "for i in range(100):\n",
        "\n",
        "  yi = m0*x[i] + c0 + error[i]\n",
        "\n",
        "  y.append(yi)"
      ],
      "metadata": {
        "id": "2yb0ewb_xfYa"
      },
      "execution_count": null,
      "outputs": []
    },
    {
      "cell_type": "code",
      "source": [
        "xylist = [x[i] * y[i] for i in range(100)]\n",
        "\n",
        "xsqulist = [ x[i]**2 for i in range(100)]\n",
        "\n",
        "xlist = x\n",
        "\n",
        "ylist = y"
      ],
      "metadata": {
        "id": "RWhkpexAx4hL"
      },
      "execution_count": null,
      "outputs": []
    },
    {
      "cell_type": "code",
      "source": [
        "xy_bar = math.fsum( xylist ) / 100\n",
        "\n",
        "xsqu_bar = math.fsum( xsqulist ) / 100\n",
        "\n",
        "x_bar = math.fsum( xlist ) / 100\n",
        "\n",
        "y_bar = math.fsum( ylist ) / 100"
      ],
      "metadata": {
        "id": "JIO9VZXOyew8"
      },
      "execution_count": null,
      "outputs": []
    },
    {
      "cell_type": "code",
      "source": [
        "m = (xy_bar - (x_bar * y_bar)) / (xsqu_bar - x_bar**2)\n",
        "\n",
        "\n",
        "c = y_bar - m * x_bar"
      ],
      "metadata": {
        "id": "0LTC8_ux0JVU"
      },
      "execution_count": null,
      "outputs": []
    },
    {
      "cell_type": "code",
      "source": [
        "listofy = [ m * x[i] + c for i in range(100)]\n",
        "\n",
        "plt.scatter( x, y ) \n",
        "plt.plot( x, listofy, color = 'red' )\n",
        "# plt.legend()\n",
        "# plt.show()"
      ],
      "metadata": {
        "colab": {
          "base_uri": "https://localhost:8080/",
          "height": 447
        },
        "id": "HqUm1Jb2yb8i",
        "outputId": "17f52072-eefe-4966-fe32-ed9dd1d83888"
      },
      "execution_count": null,
      "outputs": [
        {
          "output_type": "execute_result",
          "data": {
            "text/plain": [
              "[<matplotlib.lines.Line2D at 0x7fbf080eb1c0>]"
            ]
          },
          "metadata": {},
          "execution_count": 8
        },
        {
          "output_type": "display_data",
          "data": {
            "text/plain": [
              "<Figure size 640x480 with 1 Axes>"
            ],
            "image/png": "[encoded data removed]"
          },
          "metadata": {}
        }
      ]
    },
    {
      "cell_type": "markdown",
      "source": [
        "listy = [ m * x[i] + c   for i in range(100)]\n",
        "\n",
        "\n",
        "\n",
        "plt.scatter( x, y )\n",
        "plt.plot( x, listy )"
      ],
      "metadata": {
        "id": "Ir_yrq8X0fr-"
      }
    },
    {
      "cell_type": "code",
      "source": [
        "beta = 4\n",
        "alpha = 0.1\n",
        "\n",
        "Error = []\n",
        "for _ in range(100):\n",
        "  e = random.random()\n",
        "  Error.append((e-0.5))\n",
        "# Error = sorted(error)"
      ],
      "metadata": {
        "id": "WbQd5uyk1H2B"
      },
      "execution_count": null,
      "outputs": []
    },
    {
      "cell_type": "code",
      "source": [
        "# beta = 5\n",
        "# alpha = 0.1\n",
        "\n",
        "# Error = []\n",
        "# for _ in range(100):\n",
        "#   e = random.random()\n",
        "#   Error.append((e-0.5)*2)\n",
        "# # Error = sorted(error)\n",
        "\n",
        "\n",
        "\n",
        "# beta = 5\n",
        "# alpha = 0.1\n",
        "# \n",
        "# Error = []\n",
        "# for _ in range(100):\n",
        "  # e = random.random()\n",
        "  # Error.append((e-0.5)*2)\n",
        "# Error = sorted(error)"
      ],
      "metadata": {
        "id": "e3xciVVN1Haw"
      },
      "execution_count": null,
      "outputs": []
    },
    {
      "cell_type": "code",
      "source": [
        "y = []\n",
        "\n",
        "for i in range(100):\n",
        "  yi = beta*math.exp( alpha*x[i] + Error[i])\n",
        "  y.append(yi)\n",
        "\n",
        "log_y = []\n",
        "\n",
        "for i in range(100):\n",
        "\n",
        "  yi = math.log(beta) + alpha * x[i] + Error[i]\n",
        "  log_y.append(yi)\n",
        "\n",
        "print(y)"
      ],
      "metadata": {
        "colab": {
          "base_uri": "https://localhost:8080/"
        },
        "id": "c2HaxVGg1cxZ",
        "outputId": "94953c02-bbab-4631-dde0-10337dcb40df"
      },
      "execution_count": null,
      "outputs": [
        {
          "output_type": "stream",
          "name": "stdout",
          "text": [
            "[3.599761216011126, 6.590516930155747, 3.541513417304611, 3.990124106853075, 7.088768314927739, 8.243766197002385, 8.119166204088588, 9.182539760912782, 8.53328389956952, 9.612355198613447, 8.912058755563491, 9.061497658346628, 9.432871164096738, 11.341204948490834, 24.1229841195335, 12.314997266571849, 16.818914835968823, 37.273185296663264, 40.90329368343578, 27.618562607243092, 21.241015496862673, 34.485379619968384, 43.442016386175425, 65.51132768536016, 77.07806581660728, 47.515133271184936, 55.01473526288084, 50.8595272299225, 60.91525959544294, 80.40135596997422, 74.18613481584137, 68.2646865682195, 119.13384529033368, 124.84838561782776, 138.51127603762745, 97.67435978482223, 189.28201921557533, 193.97367385603354, 188.03429967212745, 281.3457612622512, 297.74817477380054, 438.64619487164936, 466.7800887552864, 445.0166938430475, 533.7316297857174, 362.5144482696995, 512.9421933643731, 709.0830475705922, 380.1858062172653, 576.7381583368774, 743.4733635804795, 817.2020476697929, 584.893423529353, 1066.4834000007866, 1083.7766793284986, 1344.4634244382655, 1140.7583098937712, 1289.6129331108004, 1911.0952863418931, 1241.1765290677095, 1119.3987947859307, 1859.5504933657091, 1679.37682530479, 3683.2881776415156, 2505.2105957271265, 3766.4357409908703, 5083.903355567446, 3750.108017700488, 4538.9620309140955, 4023.9882853726194, 3113.425720023067, 3858.5235098943776, 8226.615710505537, 6596.5717393088225, 6616.9874283926665, 7062.846545170037, 13285.534447020478, 5982.282810058192, 6658.671809561272, 8082.092663210922, 18620.59292583719, 16673.370640678037, 21011.60360519609, 20800.191140511113, 18355.4331687057, 22169.936325799223, 15664.274465222377, 24120.057728880714, 37700.026175926294, 21764.936639375905, 52646.43049482785, 37489.16548182357, 27063.215822511465, 52399.12942313813, 76844.294352877, 39659.56876852125, 41639.867271188356, 45498.5975364672, 82870.21502415367, 88453.7863444581]\n"
          ]
        }
      ]
    },
    {
      "cell_type": "code",
      "source": [
        "xylist = [ x[i] * log_y[i] for i in range(100)]\n",
        "\n",
        "ylist = log_y\n",
        "\n",
        "\n",
        "\n",
        "\n",
        "xy_bar = math.fsum(xylist) / 100\n",
        "\n",
        "y_bar = math.fsum(ylist) / 100\n"
      ],
      "metadata": {
        "id": "dhIa9cVj2jKC"
      },
      "execution_count": null,
      "outputs": []
    },
    {
      "cell_type": "code",
      "source": [
        "m = (xy_bar - (x_bar * y_bar)) / (xsqu_bar - x_bar**2)\n",
        "\n",
        "\n",
        "c= y_bar - m * x_bar\n",
        "\n",
        "listofy = [m*x[i] + c for i in range(100)]\n",
        "\n",
        "listof_y= [math.exp(listofy[i]) for i in range(100)]"
      ],
      "metadata": {
        "id": "z5dlgIHe3B04"
      },
      "execution_count": null,
      "outputs": []
    },
    {
      "cell_type": "code",
      "source": [
        "plt.scatter(x,y)\n",
        "# plt.plot(x,y)\n",
        "# plt.scatter(x,log_y , color = 'green')\n",
        "plt.plot(x,listof_y, color='red')"
      ],
      "metadata": {
        "colab": {
          "base_uri": "https://localhost:8080/",
          "height": 447
        },
        "id": "3yu0WEGY4Ham",
        "outputId": "80be5e12-e153-42eb-a17d-d16812aff5a9"
      },
      "execution_count": null,
      "outputs": [
        {
          "output_type": "execute_result",
          "data": {
            "text/plain": [
              "[<matplotlib.lines.Line2D at 0x7fbef95dc880>]"
            ]
          },
          "metadata": {},
          "execution_count": 14
        },
        {
          "output_type": "display_data",
          "data": {
            "text/plain": [
              "<Figure size 640x480 with 1 Axes>"
            ],
            "image/png": "[encoded data removed]"
          },
          "metadata": {}
        }
      ]
    },
    {
      "cell_type": "code",
      "source": [],
      "metadata": {
        "id": "VrmqFCxW_Eyo"
      },
      "execution_count": null,
      "outputs": []
    },
    {
      "cell_type": "code",
      "source": [
        "degree =int(input(\"Enter the degree of polynomial equation: \"))\n",
        "list_of_m = []\n",
        "for i in range(degree+1):\n",
        "  # m = 'm'+str(i)\n",
        "  m =int(input(\"Enter coffecient of equation: \"))\n",
        "  list_of_m.append(m)\n",
        "\n",
        "x= [i for i in range(1,101)]\n",
        "Error = []\n",
        "for _ in range(100):\n",
        "  e = random.random()\n",
        "  Error.append((e-0.5)*2)"
      ],
      "metadata": {
        "id": "0SaGePqs_EcG",
        "colab": {
          "base_uri": "https://localhost:8080/"
        },
        "outputId": "697296da-0cd7-4734-9ac4-f3568015f187"
      },
      "execution_count": null,
      "outputs": [
        {
          "name": "stdout",
          "output_type": "stream",
          "text": [
            "Enter the degree of polynomial equation: 3\n",
            "Enter coffecient of equation: 1\n",
            "Enter coffecient of equation: 2\n",
            "Enter coffecient of equation: 1\n",
            "Enter coffecient of equation: 2\n"
          ]
        }
      ]
    },
    {
      "cell_type": "code",
      "source": [
        "list_of_y= []\n",
        "for i in range(100):\n",
        "  y = list_of_m[0]\n",
        "  for j in range(degree):\n",
        "    y += list_of_m[(j+1)] * (x[i]**(j+1))\n",
        "  list_of_y.append(y+Error[i])\n",
        "\n",
        "print(list_of_y)"
      ],
      "metadata": {
        "colab": {
          "base_uri": "https://localhost:8080/"
        },
        "id": "QVvqL-iM7yXz",
        "outputId": "73f89f5e-93e9-4118-dfd3-31f70a296cfd"
      },
      "execution_count": null,
      "outputs": [
        {
          "output_type": "stream",
          "name": "stdout",
          "text": [
            "[6.960257889443398, 24.847339126806386, 69.7153006904127, 153.8778608633263, 286.5780304059751, 480.5493859344276, 749.1035194281125, 1105.7724329957014, 1557.3060849149063, 2121.779543486537, 2805.8242689755916, 3625.230607440808, 4589.593483739703, 5713.168962672067, 7006.595642347448, 8481.676283122079, 10149.240189511895, 12025.489663181292, 14117.666333510619, 16441.50937271171, 19006.6103464668, 21824.766803844475, 24909.277616519157, 28273.05006715902, 31926.414989472643, 35881.35959475047, 40149.812241406056, 44745.32461540135, 49678.8907515025, 54960.6801750966, 60605.581358537725, 66625.66591815557, 73030.79178912747, 79833.58250356198, 87046.05031029462, 94681.10240396809, 102749.54202989486, 111265.55356929293, 120238.36251233048, 129681.97863374022, 139605.916126898, 150025.7009466422, 160950.37237105853, 172393.92131267558, 184366.29652914015, 196881.00030747367, 209950.06727140202, 223584.0588139091, 237797.01853353032, 252601.01371035122, 268005.4702904882, 284025.5621108506, 300670.51411724644, 317953.55578733573, 335886.68312611064, 354480.80067688687, 373749.09955114784, 393704.4850485776, 414358.0164395006, 435721.326793688, 457806.15530562366, 480625.8718362956, 504190.7634073806, 528512.3601586731, 553606.3837426554, 579481.1043439925, 606149.3161849813, 633624.0338723076, 661917.8982679175, 691040.5543991417, 721006.6006588769, 751824.5832786873, 783510.6250726427, 816072.7119662643, 849526.8419366616, 883881.0013363746, 919149.4013411873, 955344.4086410574, 992478.7702149273, 1030561.0615980334, 1069606.951168257, 1109624.771750935, 1150629.731558619, 1192633.3087506278, 1235645.12255436, 1279680.9505074585, 1324749.779184242, 1370864.802611657, 1418037.490788109, 1466281.9805087657, 1515606.9364368457, 1566024.3131304071, 1617550.0885186347, 1670192.4693923036, 1723965.4831747375, 1778880.713364275, 1834950.3029655877, 1892184.1691363181, 1950598.3787951958, 2010200.4995906535]\n"
          ]
        }
      ]
    },
    {
      "cell_type": "code",
      "source": [
        "matrix = []\n",
        "finallist =[]\n",
        "c_vector =[]\n",
        "for i in range(degree*2+1):\n",
        "  sum1 = 0\n",
        "  sum2 = 0\n",
        "  for j in range(100):\n",
        "    sum1 += list_of_y[j]*(x[j]**i)\n",
        "    sum2 += x[j]**i\n",
        "\n",
        "  matrix.append(sum2)\n",
        "  if i <= degree:\n",
        "    c_vector.append([sum1])\n",
        "\n",
        "\n",
        "\n",
        "for k in range(degree+1):\n",
        "  if k > degree:\n",
        "    break\n",
        "  finallist.append(matrix[k: degree+1+k])\n",
        "\n"
      ],
      "metadata": {
        "id": "NZNF9WRW-nUc"
      },
      "execution_count": null,
      "outputs": []
    },
    {
      "cell_type": "code",
      "source": [
        "# Finally checking closeness between choosen values of m's and calculated values of m.\n",
        "inverse = np.linalg.inv(finallist)              # calculating inverse of matrix.\n",
        "product = np.dot(inverse, c_vector)      # This is the column vector containing values of calculated m.\n",
        "for i in range(degree + 1):\n",
        "    print(f'Choosen values of m_{i}: ', list_of_m[i])\n",
        "    print(f'Calculated values of m_{i}: ', product[i][0])\n",
        "    print()"
      ],
      "metadata": {
        "colab": {
          "base_uri": "https://localhost:8080/"
        },
        "id": "HUcQz6sqBop2",
        "outputId": "0f9e85be-fe2f-431a-ef3c-e60540bd2515"
      },
      "execution_count": null,
      "outputs": [
        {
          "output_type": "stream",
          "name": "stdout",
          "text": [
            "Choosen values of m_0:  1\n",
            "Calculated values of m_0:  1.1175714880228043\n",
            "\n",
            "Choosen values of m_1:  2\n",
            "Calculated values of m_1:  2.0035792719572783\n",
            "\n",
            "Choosen values of m_2:  1\n",
            "Calculated values of m_2:  0.9999214959971141\n",
            "\n",
            "Choosen values of m_3:  2\n",
            "Calculated values of m_3:  2.000000124830194\n",
            "\n"
          ]
        }
      ]
    }
  ]
}